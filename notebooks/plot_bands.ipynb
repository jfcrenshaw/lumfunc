{
 "cells": [
  {
   "cell_type": "code",
   "execution_count": null,
   "metadata": {},
   "outputs": [],
   "source": [
    "from lumfunc import Config, Bandpasses, library_dir, fig_dir\n",
    "\n",
    "import numpy as np\n",
    "import matplotlib.pyplot as plt"
   ]
  },
  {
   "cell_type": "code",
   "execution_count": null,
   "metadata": {},
   "outputs": [],
   "source": [
    "config = Config(library_dir / \"default\" / \"config.yaml\")\n",
    "bandpasses = Bandpasses(config.filter_files)"
   ]
  },
  {
   "cell_type": "code",
   "execution_count": null,
   "metadata": {},
   "outputs": [],
   "source": [
    "fig, ax = plt.subplots(figsize=(4, 2), dpi=200)\n",
    "\n",
    "colors = (\n",
    "    np.array(\n",
    "        [\n",
    "            (128, 0, 128),\n",
    "            (0, 0, 255),\n",
    "            (0, 139, 139),\n",
    "            (46, 139, 87),\n",
    "            (29, 120, 29),\n",
    "            (107, 142, 35),\n",
    "            (154, 205, 50),\n",
    "            (216, 164, 32),\n",
    "            (255, 69, 0),\n",
    "            (178, 34, 34),\n",
    "            (139, 0, 0),\n",
    "        ]\n",
    "    )\n",
    "    / 255\n",
    ")\n",
    "for (name, band), c in zip(bandpasses.bands.items(), colors):\n",
    "    x = band.wave_list\n",
    "    y = band(x)\n",
    "    y /= y.max()\n",
    "\n",
    "    ax.fill_between(x / 1e3, y, alpha=0.5, color=c)\n",
    "\n",
    "    if name == \"uS\":\n",
    "        ax.text(\n",
    "            0.41,\n",
    "            1.02,\n",
    "            r\"$u^{\\!\\!*}$\",\n",
    "            color=c,\n",
    "            ha=\"center\",\n",
    "            va=\"bottom\",\n",
    "        )\n",
    "    elif name == \"Y\":\n",
    "        ax.text(\n",
    "            1.07,\n",
    "            1.02,\n",
    "            \"$Y$\",\n",
    "            color=c,\n",
    "            ha=\"center\",\n",
    "            va=\"bottom\",\n",
    "        )\n",
    "    else:\n",
    "        ax.text(\n",
    "            band.effective_wavelength / 1e3,\n",
    "            1.02,\n",
    "            f\"${name}$\",\n",
    "            color=c,\n",
    "            ha=\"center\",\n",
    "            va=\"bottom\",\n",
    "        )\n",
    "\n",
    "xticks = [0.3, 0.4, 0.5, 0.6, 0.7, 0.8, 0.9, 1.0, 1.5, 2.0]\n",
    "ax.set(\n",
    "    ylim=(0, 1.12),\n",
    "    ylabel=\"Normalized throughput\",\n",
    "    xlim=(0.3, 2.45),\n",
    "    xlabel=r\"Wavelength [$\\mu$m]\",\n",
    "    xscale=\"log\",\n",
    "    xticks=xticks,\n",
    "    xticklabels=xticks,\n",
    ")\n",
    "\n",
    "fig.savefig(fig_dir / \"bands.pdf\", bbox_inches=\"tight\")"
   ]
  },
  {
   "cell_type": "code",
   "execution_count": null,
   "metadata": {},
   "outputs": [],
   "source": []
  }
 ],
 "metadata": {
  "kernelspec": {
   "display_name": "lumfunc",
   "language": "python",
   "name": "python3"
  },
  "language_info": {
   "codemirror_mode": {
    "name": "ipython",
    "version": 3
   },
   "file_extension": ".py",
   "mimetype": "text/x-python",
   "name": "python",
   "nbconvert_exporter": "python",
   "pygments_lexer": "ipython3",
   "version": "3.12.9"
  }
 },
 "nbformat": 4,
 "nbformat_minor": 2
}
