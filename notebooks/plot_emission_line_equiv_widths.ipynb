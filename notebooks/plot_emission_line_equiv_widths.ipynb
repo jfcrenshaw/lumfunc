{
 "cells": [
  {
   "cell_type": "code",
   "execution_count": null,
   "metadata": {},
   "outputs": [],
   "source": [
    "from lumfunc import Config, Bandpasses, SED, EmissionLineModel, library_dir, fig_dir\n",
    "\n",
    "import numpy as np\n",
    "import matplotlib.pyplot as plt"
   ]
  },
  {
   "cell_type": "code",
   "execution_count": null,
   "metadata": {},
   "outputs": [],
   "source": [
    "config = Config(library_dir / \"default\" / \"config.yaml\")\n",
    "bandpasses = Bandpasses(config.filter_files)\n",
    "line_model = EmissionLineModel()\n",
    "\n",
    "lines = {line: [] for line in line_model.lines}\n",
    "colors = []\n",
    "\n",
    "for i in range(7, 31):\n",
    "    # Create the SED\n",
    "    sed = SED(config.sed_list[i], bandpasses)\n",
    "\n",
    "    # Extract the underlying galsim SED\n",
    "    sed = sed.sed_intrinsic\n",
    "\n",
    "    # Predict the equivalent widths\n",
    "    ews = line_model.predict(sed)\n",
    "    for line in ews:\n",
    "        lines[line].append(ews[line])\n",
    "\n",
    "    # Save the colors the jax net used\n",
    "    colors.append(line_model.jn_colors(sed))\n",
    "\n",
    "lines = {line: np.array(ews) for line, ews in lines.items()}\n",
    "colors = np.array(colors).T"
   ]
  },
  {
   "cell_type": "code",
   "execution_count": null,
   "metadata": {},
   "outputs": [],
   "source": [
    "fig, ax = plt.subplots(dpi=150)\n",
    "\n",
    "# Plot the equivalent width as a function of color\n",
    "cs = colors[1]\n",
    "idx = np.argsort(cs)\n",
    "for line, ews in lines.items():\n",
    "    ax.plot(cs[idx], ews[idx], label=line.replace(\"_\", \" \"))\n",
    "\n",
    "ax.legend()\n",
    "ax.set(\n",
    "    xlabel=\"UV color\",\n",
    "    ylabel=r\"Equivalent width ($\\AA$)\",\n",
    "    ylim=(0, 120),\n",
    ")\n",
    "\n",
    "ax.axvline(0.125, c=\"silver\", lw=5, zorder=0)\n",
    "\n",
    "fig.savefig(fig_dir / \"emission_lines_vs_color.pdf\", bbox_inches=\"tight\")"
   ]
  },
  {
   "cell_type": "code",
   "execution_count": null,
   "metadata": {},
   "outputs": [],
   "source": [
    "for i in range(len(cs)):\n",
    "    print(f\"{i + 7:<3} {cs[i]:>6.3f}   {cs[i] < 0.125}\")"
   ]
  },
  {
   "cell_type": "code",
   "execution_count": null,
   "metadata": {},
   "outputs": [],
   "source": []
  }
 ],
 "metadata": {
  "kernelspec": {
   "display_name": "lumfunc",
   "language": "python",
   "name": "python3"
  },
  "language_info": {
   "codemirror_mode": {
    "name": "ipython",
    "version": 3
   },
   "file_extension": ".py",
   "mimetype": "text/x-python",
   "name": "python",
   "nbconvert_exporter": "python",
   "pygments_lexer": "ipython3",
   "version": "3.12.9"
  }
 },
 "nbformat": 4,
 "nbformat_minor": 2
}
